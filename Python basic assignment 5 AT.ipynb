{
 "cells": [
  {
   "cell_type": "code",
   "execution_count": null,
   "id": "4883feed",
   "metadata": {},
   "outputs": [],
   "source": [
    "1. What does an empty dictionary's code look like?\n"
   ]
  },
  {
   "cell_type": "code",
   "execution_count": null,
   "id": "df93d43a",
   "metadata": {},
   "outputs": [],
   "source": [
    "Ans. \n",
    "\n",
    "An empty dictionary is often represented by two empty curly brackets\n",
    "d = {} or d = dict()"
   ]
  },
  {
   "cell_type": "code",
   "execution_count": null,
   "id": "f7140349",
   "metadata": {},
   "outputs": [],
   "source": [
    "2.What is the value of dictionary value with key 'foo' and the value 42 ?\n"
   ]
  },
  {
   "cell_type": "code",
   "execution_count": 4,
   "id": "de50746e",
   "metadata": {},
   "outputs": [
    {
     "data": {
      "text/plain": [
       "{'foo': 42}"
      ]
     },
     "execution_count": 4,
     "metadata": {},
     "output_type": "execute_result"
    }
   ],
   "source": [
    "#Ans.\n",
    "\n",
    "{'foo': 42}"
   ]
  },
  {
   "cell_type": "code",
   "execution_count": null,
   "id": "6fd53977",
   "metadata": {},
   "outputs": [],
   "source": [
    "3. What is the most significant distinction between a dictionary and a list?\n"
   ]
  },
  {
   "cell_type": "code",
   "execution_count": null,
   "id": "5a7fc367",
   "metadata": {},
   "outputs": [],
   "source": [
    "Ans.\n",
    "\n",
    "Dictionaries are represented by {} where as listed are represented by []\n",
    "The Items stored in a dictionary are Unordered , while the items in a list are ordered"
   ]
  },
  {
   "cell_type": "code",
   "execution_count": null,
   "id": "dd0384fc",
   "metadata": {},
   "outputs": [],
   "source": [
    "4.What happens if you try to access spam ['foo'] if spam is {'bar':100} ?\n"
   ]
  },
  {
   "cell_type": "code",
   "execution_count": 5,
   "id": "b16fb45d",
   "metadata": {},
   "outputs": [
    {
     "ename": "KeyError",
     "evalue": "'foo'",
     "output_type": "error",
     "traceback": [
      "\u001b[1;31m---------------------------------------------------------------------------\u001b[0m",
      "\u001b[1;31mKeyError\u001b[0m                                  Traceback (most recent call last)",
      "\u001b[1;32m~\\AppData\\Local\\Temp/ipykernel_26004/1112761422.py\u001b[0m in \u001b[0;36m<module>\u001b[1;34m\u001b[0m\n\u001b[0;32m      1\u001b[0m \u001b[0mspam\u001b[0m\u001b[1;33m=\u001b[0m \u001b[1;33m{\u001b[0m\u001b[1;34m'bar'\u001b[0m\u001b[1;33m:\u001b[0m \u001b[1;36m100\u001b[0m\u001b[1;33m}\u001b[0m\u001b[1;33m\u001b[0m\u001b[1;33m\u001b[0m\u001b[0m\n\u001b[1;32m----> 2\u001b[1;33m \u001b[0mspam\u001b[0m\u001b[1;33m[\u001b[0m\u001b[1;34m'foo'\u001b[0m\u001b[1;33m]\u001b[0m\u001b[1;33m\u001b[0m\u001b[1;33m\u001b[0m\u001b[0m\n\u001b[0m",
      "\u001b[1;31mKeyError\u001b[0m: 'foo'"
     ]
    }
   ],
   "source": [
    "We get a KeyError error.\n",
    "\n",
    "spam= {'bar': 100}\n",
    "spam['foo']"
   ]
  },
  {
   "cell_type": "code",
   "execution_count": null,
   "id": "89d5d6e5",
   "metadata": {},
   "outputs": [],
   "source": [
    "5. If a dictionary is stored in spam, what is the difference between the expressions 'cat' in spam and 'cat' in spam.keys()?\n"
   ]
  },
  {
   "cell_type": "code",
   "execution_count": null,
   "id": "3ea5227d",
   "metadata": {},
   "outputs": [],
   "source": [
    "Ans:  \n",
    "    \n",
    "There is no difference . The operator checks whether a value exits as a key in the dictionary or not\n",
    "\n"
   ]
  },
  {
   "cell_type": "code",
   "execution_count": null,
   "id": "67c4b09f",
   "metadata": {},
   "outputs": [],
   "source": [
    "6. If a dictionary is stored in spam, what is the difference between the expressions 'cat' in spam and 'cat' in spam.values()?\n"
   ]
  },
  {
   "cell_type": "code",
   "execution_count": null,
   "id": "aadd986b",
   "metadata": {},
   "outputs": [],
   "source": [
    "Ans:\n",
    "\n",
    "'cat' in spam checks whether there is a 'cat' key in the dictionary, while 'cat' in spam.values() checks whether there is a value 'cat' for one of the keys in spam.\n",
    "\n"
   ]
  },
  {
   "cell_type": "code",
   "execution_count": null,
   "id": "408ca891",
   "metadata": {},
   "outputs": [],
   "source": [
    "7. What is a shortcut for the following code ?\n",
    "    if 'color' not in spam:\n",
    "    spam['color'] ='black'"
   ]
  },
  {
   "cell_type": "code",
   "execution_count": null,
   "id": "9152fe62",
   "metadata": {},
   "outputs": [],
   "source": [
    "Ans: \n",
    "\n",
    "spam.setdefault('color','black')\n",
    "\n"
   ]
  },
  {
   "cell_type": "code",
   "execution_count": null,
   "id": "d98025c4",
   "metadata": {},
   "outputs": [],
   "source": [
    "8. How do you \"pretty print\" dictionary values using which module and function?\n"
   ]
  },
  {
   "cell_type": "code",
   "execution_count": null,
   "id": "70e8f430",
   "metadata": {},
   "outputs": [],
   "source": [
    "Ans.  \n",
    "\n",
    "By using pprint.pprint()"
   ]
  },
  {
   "cell_type": "code",
   "execution_count": 11,
   "id": "e3770fc9",
   "metadata": {},
   "outputs": [
    {
     "name": "stdout",
     "output_type": "stream",
     "text": [
      "Printing using print() function\n",
      " [{'Name': 'Aman', 'Age': '24', 'Residence': {'Country': 'India', 'City': 'New delhi'}}, {'Name': 'Rahul', 'Age': '44', 'Residence': {'Country': 'Pakistan', 'City': 'Lahore'}}, {'Name': 'Anny', 'Age': '25', 'Residence': {'Country': 'India', 'City': 'New delhi'}}, {'Name': 'Chunnu', 'Age': '35', 'Residence': {'Country': 'Bangladesh', 'City': 'Dhaka'}}]\n",
      "-------\n",
      "Printing using pprint() funciton\n",
      "[{'Age': '24',\n",
      "  'Name': 'Aman',\n",
      "  'Residence': {'City': 'New delhi', 'Country': 'India'}},\n",
      " {'Age': '44',\n",
      "  'Name': 'Rahul',\n",
      "  'Residence': {'City': 'Lahore', 'Country': 'Pakistan'}},\n",
      " {'Age': '25',\n",
      "  'Name': 'Anny',\n",
      "  'Residence': {'City': 'New delhi', 'Country': 'India'}},\n",
      " {'Age': '35',\n",
      "  'Name': 'Chunnu',\n",
      "  'Residence': {'City': 'Dhaka', 'Country': 'Bangladesh'}}]\n",
      "-------\n"
     ]
    }
   ],
   "source": [
    "ndict = [\n",
    "  {'Name': 'Aman', 'Age': '24', 'Residence': {'Country':'India', 'City': 'New delhi'}},\n",
    "  {'Name': 'Rahul', 'Age': '44', 'Residence': {'Country':'Pakistan', 'City': 'Lahore'}},\n",
    "  {'Name': 'Anny', 'Age': '25', 'Residence': {'Country':'India', 'City': 'New delhi'}},\n",
    "  {'Name': 'Chunnu', 'Age': '35', 'Residence': {'Country':'Bangladesh', 'City': 'Dhaka'}}\n",
    "]\n",
    "\n",
    "print('Printing using print() function\\n',ndict)\n",
    "print('-'*7)\n",
    "import pprint\n",
    "print('Printing using pprint() funciton')\n",
    "pprint.pprint(ndict)\n",
    "print('-'*7)"
   ]
  },
  {
   "cell_type": "code",
   "execution_count": null,
   "id": "acf9b0f3",
   "metadata": {},
   "outputs": [],
   "source": []
  }
 ],
 "metadata": {
  "kernelspec": {
   "display_name": "Python 3 (ipykernel)",
   "language": "python",
   "name": "python3"
  },
  "language_info": {
   "codemirror_mode": {
    "name": "ipython",
    "version": 3
   },
   "file_extension": ".py",
   "mimetype": "text/x-python",
   "name": "python",
   "nbconvert_exporter": "python",
   "pygments_lexer": "ipython3",
   "version": "3.9.7"
  }
 },
 "nbformat": 4,
 "nbformat_minor": 5
}
